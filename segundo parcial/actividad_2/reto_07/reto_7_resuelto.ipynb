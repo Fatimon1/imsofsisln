{
 "cells": [
  {
   "cell_type": "code",
   "execution_count": 3,
   "id": "034ef340-495b-4494-b1f6-c5ddb9e487a2",
   "metadata": {},
   "outputs": [
    {
     "ename": "SyntaxError",
     "evalue": "invalid syntax (2006602270.py, line 13)",
     "output_type": "error",
     "traceback": [
      "\u001b[1;36m  Cell \u001b[1;32mIn[3], line 13\u001b[1;36m\u001b[0m\n\u001b[1;33m    print(i,five_mul)c\u001b[0m\n\u001b[1;37m                     ^\u001b[0m\n\u001b[1;31mSyntaxError\u001b[0m\u001b[1;31m:\u001b[0m invalid syntax\n"
     ]
    }
   ],
   "source": [
    "\"\"\"\n",
    "Usaremos este script para enseñar Python a principiantes.\n",
    "El script es un ejemplo de Fizz-Buzz implementado en Python.\n",
    "\n",
    "El problema de FizzBuzz:\n",
    "Para todos los enteros entre 1 y 99 (incluidos ambos):\n",
    "# imprimir fizz para múltiplos de 3\n",
    "# imprimir buzz para múltiplos de 5\n",
    "# imprimir fizzbuzz para múltiplos de 3 y 5\n",
    "\"\"\"\n",
    "\n",
    "def fizzbuzz(max_num):\n",
    "    three_mul = 'fizz'\n",
    "    five_mul = 'buzz'\n",
    "    num1 = 3\n",
    "    num2 = 5 \n",
    "\n",
    "    for i in range(1,max_num):\n",
    "        if i%num1==0 and i%num2==0:\n",
    "            print(i,three_mul+five_mul)\n",
    "        elif i%num1==0:\n",
    "            print(i,three_mul)\n",
    "        elif i%num2==0:\n",
    "            print(i,five_mul)\n",
    "\n",
    "#----START OF SCRIPT\n",
    "if __name__=='__main__':\n",
    "    fizzbuzz(100)\n"
   ]
  }
 ],
 "metadata": {
  "kernelspec": {
   "display_name": "Python [conda env:base] *",
   "language": "python",
   "name": "conda-base-py"
  },
  "language_info": {
   "codemirror_mode": {
    "name": "ipython",
    "version": 3
   },
   "file_extension": ".py",
   "mimetype": "text/x-python",
   "name": "python",
   "nbconvert_exporter": "python",
   "pygments_lexer": "ipython3",
   "version": "3.12.7"
  }
 },
 "nbformat": 4,
 "nbformat_minor": 5
}
